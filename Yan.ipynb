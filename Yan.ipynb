{
  "cells": [
    {
      "cell_type": "code",
      "execution_count": 1,
      "metadata": {
        "id": "ZAa1Z_o1NCDF"
      },
      "outputs": [],
      "source": [
        "import requests\n",
        "\n",
        "mrturl = \"https://jakartamrt.co.id/id/val/stasiuns\"\n",
        "\n",
        "opener =  requests.get(mrturl)"
      ]
    },
    {
      "cell_type": "code",
      "execution_count": 2,
      "metadata": {
        "id": "mTShNEtkNNf4",
        "outputId": "7ede2fe5-99e6-4115-c85b-40e4014976af",
        "colab": {
          "base_uri": "https://localhost:8080/"
        }
      },
      "outputs": [
        {
          "output_type": "execute_result",
          "data": {
            "text/plain": [
              "13"
            ]
          },
          "metadata": {},
          "execution_count": 2
        }
      ],
      "source": [
        "data = opener.json()\n",
        "\n",
        "total = len(data); total"
      ]
    },
    {
      "cell_type": "markdown",
      "source": [
        "🚀 ```Total Statiun : 13```"
      ],
      "metadata": {
        "id": "OoWcq4zYIhWL"
      }
    },
    {
      "cell_type": "code",
      "execution_count": 3,
      "metadata": {
        "id": "agxX4oa1-HOU"
      },
      "outputs": [],
      "source": [
        "import warnings\n",
        "\n",
        "import matplotlib.pyplot as plt\n",
        "\n",
        "warnings.filterwarnings(\"ignore\")\n",
        "\n",
        "plt.style.use(\"seaborn-whitegrid\")"
      ]
    },
    {
      "cell_type": "code",
      "execution_count": 4,
      "metadata": {
        "id": "OfAM5CD5-HOV",
        "outputId": "82d16e62-5ace-45fe-d253-e582f99f0c0d",
        "colab": {
          "base_uri": "https://localhost:8080/"
        }
      },
      "outputs": [
        {
          "output_type": "execute_result",
          "data": {
            "text/plain": [
              "dict_keys(['nid', 'title', 'urutan', 'isbig', 'path', 'catatan', 'antarmodas', 'peta_lokalitas', 'jadwal_lb_biasa', 'jadwal_lb_libur', 'jadwal_hi_biasa', 'jadwal_hi_libur', 'banner', 'retails', 'estimasi', 'fasilitas'])"
            ]
          },
          "metadata": {},
          "execution_count": 4
        }
      ],
      "source": [
        "sample = data[6]\n",
        "\n",
        "sample.keys()"
      ]
    },
    {
      "cell_type": "code",
      "execution_count": 5,
      "metadata": {
        "id": "_64Ikv0x-HOX",
        "outputId": "2c3a3587-decf-46ce-8ea7-29b37302e577",
        "colab": {
          "base_uri": "https://localhost:8080/",
          "height": 35
        }
      },
      "outputs": [
        {
          "output_type": "execute_result",
          "data": {
            "text/plain": [
              "'Stasiun ASEAN'"
            ],
            "application/vnd.google.colaboratory.intrinsic+json": {
              "type": "string"
            }
          },
          "metadata": {},
          "execution_count": 5
        }
      ],
      "source": [
        "title = sample[\"title\"]\n",
        "\n",
        "title"
      ]
    },
    {
      "cell_type": "code",
      "execution_count": 6,
      "metadata": {
        "id": "xGTYGSjw-HOY",
        "outputId": "425be039-f611-4d10-dbad-d6402f4d243a",
        "colab": {
          "base_uri": "https://localhost:8080/",
          "height": 35
        }
      },
      "outputs": [
        {
          "output_type": "execute_result",
          "data": {
            "text/plain": [
              "'7'"
            ],
            "application/vnd.google.colaboratory.intrinsic+json": {
              "type": "string"
            }
          },
          "metadata": {},
          "execution_count": 6
        }
      ],
      "source": [
        "urutan = sample[\"urutan\"]\n",
        "\n",
        "urutan"
      ]
    },
    {
      "cell_type": "code",
      "execution_count": 7,
      "metadata": {
        "id": "QP0dThWi-HOZ",
        "outputId": "c6610d76-b178-48aa-96e4-edf676d83c2d",
        "colab": {
          "base_uri": "https://localhost:8080/",
          "height": 35
        }
      },
      "outputs": [
        {
          "output_type": "execute_result",
          "data": {
            "text/plain": [
              "'/id/stasiun/stasiun-asean'"
            ],
            "application/vnd.google.colaboratory.intrinsic+json": {
              "type": "string"
            }
          },
          "metadata": {},
          "execution_count": 7
        }
      ],
      "source": [
        "urlt = sample[\"path\"]\n",
        "\n",
        "urlt"
      ]
    },
    {
      "cell_type": "code",
      "source": [
        "urli = \"https://jakartamrt.co.id/\"\n",
        "\n",
        "url = urli + urlt\n",
        "\n",
        "url"
      ],
      "metadata": {
        "id": "6QievPDW-eGu",
        "outputId": "8611447f-d3ef-40a5-d8b1-bc99fc02aeea",
        "colab": {
          "base_uri": "https://localhost:8080/",
          "height": 35
        }
      },
      "execution_count": 8,
      "outputs": [
        {
          "output_type": "execute_result",
          "data": {
            "text/plain": [
              "'https://jakartamrt.co.id//id/stasiun/stasiun-asean'"
            ],
            "application/vnd.google.colaboratory.intrinsic+json": {
              "type": "string"
            }
          },
          "metadata": {},
          "execution_count": 8
        }
      ]
    },
    {
      "cell_type": "code",
      "source": [
        "antir = sample[\"antarmodas\"]\n",
        "\n",
        "antir"
      ],
      "metadata": {
        "id": "tuw3_KBX_HOz",
        "outputId": "b0ba48ff-ce55-4301-bb25-72ece0dc66a6",
        "colab": {
          "base_uri": "https://localhost:8080/",
          "height": 35
        }
      },
      "execution_count": 9,
      "outputs": [
        {
          "output_type": "execute_result",
          "data": {
            "text/plain": [
              "'Kopaja\\r\\nS13\\r\\n\\r\\nMayasari Bakti\\r\\nC300'"
            ],
            "application/vnd.google.colaboratory.intrinsic+json": {
              "type": "string"
            }
          },
          "metadata": {},
          "execution_count": 9
        }
      ]
    },
    {
      "cell_type": "code",
      "source": [
        "split = \"\\r\\n\\r\\n\"\n",
        "\n",
        "antir = antir.split(split)\n",
        "\n",
        "antir"
      ],
      "metadata": {
        "id": "5KhvjV8x_Yet",
        "outputId": "53cd63a1-913c-4fc2-db7e-4d7974f4c297",
        "colab": {
          "base_uri": "https://localhost:8080/"
        }
      },
      "execution_count": 10,
      "outputs": [
        {
          "output_type": "execute_result",
          "data": {
            "text/plain": [
              "['Kopaja\\r\\nS13', 'Mayasari Bakti\\r\\nC300']"
            ]
          },
          "metadata": {},
          "execution_count": 10
        }
      ]
    },
    {
      "cell_type": "code",
      "source": [
        "replat = \"\\r\\n\"; spal = \" \"\n",
        "\n",
        "antar = [ant.replace(replat, spal) for ant in antir]\n",
        "\n",
        "antar"
      ],
      "metadata": {
        "id": "nbtGRGXW_iG6",
        "outputId": "cf85411b-6cbc-4fa2-fe7f-edac5420d6f7",
        "colab": {
          "base_uri": "https://localhost:8080/"
        }
      },
      "execution_count": 11,
      "outputs": [
        {
          "output_type": "execute_result",
          "data": {
            "text/plain": [
              "['Kopaja S13', 'Mayasari Bakti C300']"
            ]
          },
          "metadata": {},
          "execution_count": 11
        }
      ]
    },
    {
      "cell_type": "code",
      "source": [
        "jadnor = sample[\"jadwal_lb_biasa\"]\n",
        "\n",
        "jadnor = [i.strip() for i in jadnor.split(\",\")]\n",
        "\n",
        "jadnor[:5]"
      ],
      "metadata": {
        "id": "pM1WzONp_5vy",
        "outputId": "532eb7b7-b4e8-4a78-9ca6-cc27d91ff165",
        "colab": {
          "base_uri": "https://localhost:8080/"
        }
      },
      "execution_count": 12,
      "outputs": [
        {
          "output_type": "execute_result",
          "data": {
            "text/plain": [
              "['05:19', '05:34', '05:46', '05:58', '06:10']"
            ]
          },
          "metadata": {},
          "execution_count": 12
        }
      ]
    },
    {
      "cell_type": "code",
      "source": [
        "jadoff = sample[\"jadwal_lb_libur\"]\n",
        "\n",
        "jadoff = [i.strip() for i in jadoff.split(\",\")]\n",
        "\n",
        "jadoff[:5]"
      ],
      "metadata": {
        "id": "2fVnbd80_8oq",
        "outputId": "0a7cb4d6-6aa2-400f-c494-96c8aee38f5a",
        "colab": {
          "base_uri": "https://localhost:8080/"
        }
      },
      "execution_count": 13,
      "outputs": [
        {
          "output_type": "execute_result",
          "data": {
            "text/plain": [
              "['05:19', '05:34', '05:46', '05:58', '06:10']"
            ]
          },
          "metadata": {},
          "execution_count": 13
        }
      ]
    },
    {
      "cell_type": "code",
      "source": [
        "selisih = len(jadnor) - len(jadoff)\n",
        "\n",
        "selisih"
      ],
      "metadata": {
        "id": "pzIEtxiAAA4M",
        "outputId": "873771c7-dccb-4b74-a3b2-7d5eff6e8732",
        "colab": {
          "base_uri": "https://localhost:8080/"
        }
      },
      "execution_count": 14,
      "outputs": [
        {
          "output_type": "execute_result",
          "data": {
            "text/plain": [
              "33"
            ]
          },
          "metadata": {},
          "execution_count": 14
        }
      ]
    },
    {
      "cell_type": "code",
      "source": [
        "jadnor = sample[\"jadwal_hi_biasa\"]\n",
        "\n",
        "jadnor = [i.strip() for i in jadnor.split(\",\")]\n",
        "\n",
        "jadnor[:5]"
      ],
      "metadata": {
        "id": "Xm5F6McYAE8M",
        "outputId": "3c37c259-7d86-4b5d-da7d-7f0bcc08a91d",
        "colab": {
          "base_uri": "https://localhost:8080/"
        }
      },
      "execution_count": 15,
      "outputs": [
        {
          "output_type": "execute_result",
          "data": {
            "text/plain": [
              "['05:02', '05:15', '05:27', '05:39', '05:51']"
            ]
          },
          "metadata": {},
          "execution_count": 15
        }
      ]
    },
    {
      "cell_type": "code",
      "source": [
        "jadoff = sample[\"jadwal_hi_libur\"]\n",
        "\n",
        "jadoff = [i.strip() for i in jadoff.split(\",\")]\n",
        "\n",
        "jadoff[:5]"
      ],
      "metadata": {
        "id": "HF2edChfAG-2",
        "outputId": "1cd61a5f-243d-433f-ec0e-1bba61e0fc91",
        "colab": {
          "base_uri": "https://localhost:8080/"
        }
      },
      "execution_count": 16,
      "outputs": [
        {
          "output_type": "execute_result",
          "data": {
            "text/plain": [
              "['05:02', '05:14', '05:26', '05:38', '05:50']"
            ]
          },
          "metadata": {},
          "execution_count": 16
        }
      ]
    },
    {
      "cell_type": "code",
      "source": [
        "selisih = len(jadnor) - len(jadoff)\n",
        "\n",
        "selisih"
      ],
      "metadata": {
        "id": "F3X_z2vEAI4W",
        "outputId": "383eacc5-060b-4048-ab17-8727944f7bb5",
        "colab": {
          "base_uri": "https://localhost:8080/"
        }
      },
      "execution_count": 17,
      "outputs": [
        {
          "output_type": "execute_result",
          "data": {
            "text/plain": [
              "34"
            ]
          },
          "metadata": {},
          "execution_count": 17
        }
      ]
    },
    {
      "cell_type": "code",
      "source": [
        "retail = sample[\"retails\"]\n",
        "\n",
        "type(retail)"
      ],
      "metadata": {
        "id": "LyusgFYbAKwn",
        "outputId": "b995e60e-a8ce-4ba5-9378-3bd31f03b7f7",
        "colab": {
          "base_uri": "https://localhost:8080/"
        }
      },
      "execution_count": 18,
      "outputs": [
        {
          "output_type": "execute_result",
          "data": {
            "text/plain": [
              "list"
            ]
          },
          "metadata": {},
          "execution_count": 18
        }
      ]
    },
    {
      "cell_type": "code",
      "source": [
        "retail"
      ],
      "metadata": {
        "id": "78wwbQ4hA9hE",
        "outputId": "516654cc-9b50-4f83-abe1-5e18f4d82ff9",
        "colab": {
          "base_uri": "https://localhost:8080/"
        }
      },
      "execution_count": 19,
      "outputs": [
        {
          "output_type": "execute_result",
          "data": {
            "text/plain": [
              "[{'nid': '1222',\n",
              "  'title': 'di.bawahtangga',\n",
              "  'jenis_retail': 'retail ',\n",
              "  'cover': 'https://jakartamrt.co.id/sites/default/files/2023-09/6CCB4D18-9DB6-4F4E-A287-D179DEE9F313_1_201_a.jpeg',\n",
              "  'path': '/id/retail/dibawahtangga'}]"
            ]
          },
          "metadata": {},
          "execution_count": 19
        }
      ]
    },
    {
      "cell_type": "code",
      "source": [
        "support = sample[\"fasilitas\"]\n",
        "\n",
        "support[0]"
      ],
      "metadata": {
        "id": "3nP-tX-WA-t1",
        "outputId": "5cdd6082-3d1e-4b7c-c730-84e6c818a92e",
        "colab": {
          "base_uri": "https://localhost:8080/"
        }
      },
      "execution_count": 20,
      "outputs": [
        {
          "output_type": "execute_result",
          "data": {
            "text/plain": [
              "{'nid': '274',\n",
              " 'title': 'Sare Hotel',\n",
              " 'jenis_fasilitas': 'Penginapan',\n",
              " 'cover': 'https://jakartamrt.co.id/sites/default/files/2020-10/sare-hotel.jpg',\n",
              " 'path': '/id/fasilitas/sare-hotel'}"
            ]
          },
          "metadata": {},
          "execution_count": 20
        }
      ]
    },
    {
      "cell_type": "code",
      "source": [
        "perjalanan = sample[\"estimasi\"]\n",
        "\n",
        "type(perjalanan)"
      ],
      "metadata": {
        "id": "ryH8GiikASQr",
        "outputId": "f580051d-bf94-4f30-f9c4-569094496970",
        "colab": {
          "base_uri": "https://localhost:8080/"
        }
      },
      "execution_count": 21,
      "outputs": [
        {
          "output_type": "execute_result",
          "data": {
            "text/plain": [
              "list"
            ]
          },
          "metadata": {},
          "execution_count": 21
        }
      ]
    },
    {
      "cell_type": "code",
      "source": [
        "perjalanan[:5]"
      ],
      "metadata": {
        "id": "3REhXN-dAUVL",
        "outputId": "5cd1ce69-0b0e-4643-ce33-385831ab4126",
        "colab": {
          "base_uri": "https://localhost:8080/"
        }
      },
      "execution_count": 22,
      "outputs": [
        {
          "output_type": "execute_result",
          "data": {
            "text/plain": [
              "[{'stasiun_nid': '20', 'tarif': '9000', 'waktu': '15'},\n",
              " {'stasiun_nid': '21', 'tarif': '7000', 'waktu': '12'},\n",
              " {'stasiun_nid': '29', 'tarif': '6000', 'waktu': '9'},\n",
              " {'stasiun_nid': '30', 'tarif': '5000', 'waktu': '7'},\n",
              " {'stasiun_nid': '31', 'tarif': '4000', 'waktu': '5'}]"
            ]
          },
          "metadata": {},
          "execution_count": 22
        }
      ]
    },
    {
      "cell_type": "markdown",
      "source": [
        "### ```General```"
      ],
      "metadata": {
        "id": "lIkAvzZuCcQb"
      }
    },
    {
      "cell_type": "code",
      "source": [
        "timer = []\n",
        "\n",
        "tarif = []\n",
        "\n",
        "for i in range(total):\n",
        "\n",
        "  sample = data[i]\n",
        "\n",
        "  perjalanan = sample[\"estimasi\"]\n",
        "\n",
        "  for jalan in perjalanan:\n",
        "\n",
        "    j, t = int(jalan[\"waktu\"]), int(jalan[\"tarif\"])\n",
        "\n",
        "    if j not in timer: timer.append(j)\n",
        "\n",
        "    if t not in tarif: tarif.append(t)"
      ],
      "metadata": {
        "id": "MeCCuHgnCeBu"
      },
      "execution_count": 23,
      "outputs": []
    },
    {
      "cell_type": "code",
      "source": [
        "perjalanan_termurah = min(tarif)\n",
        "\n",
        "perjalanan_termurah"
      ],
      "metadata": {
        "id": "iuLPebnYCf1C",
        "outputId": "5a9fd936-8aca-4ba4-fdc0-2e6aa2127b71",
        "colab": {
          "base_uri": "https://localhost:8080/"
        }
      },
      "execution_count": 24,
      "outputs": [
        {
          "output_type": "execute_result",
          "data": {
            "text/plain": [
              "3000"
            ]
          },
          "metadata": {},
          "execution_count": 24
        }
      ]
    },
    {
      "cell_type": "markdown",
      "source": [
        "🚀 ```Tarif Murah : Rp. 3000```"
      ],
      "metadata": {
        "id": "-Zxh4gzBItsm"
      }
    },
    {
      "cell_type": "code",
      "source": [
        "perjalanan_termahal = max(tarif)\n",
        "\n",
        "perjalanan_termahal"
      ],
      "metadata": {
        "id": "7Boz_EDFCnR4",
        "outputId": "61836f4a-9109-460c-a88f-4f3c6742c920",
        "colab": {
          "base_uri": "https://localhost:8080/"
        }
      },
      "execution_count": 25,
      "outputs": [
        {
          "output_type": "execute_result",
          "data": {
            "text/plain": [
              "14000"
            ]
          },
          "metadata": {},
          "execution_count": 25
        }
      ]
    },
    {
      "cell_type": "markdown",
      "source": [
        "🚀 ```Tarif Mahal : Rp. 14.000```"
      ],
      "metadata": {
        "id": "lkHsypbkIzQb"
      }
    },
    {
      "cell_type": "code",
      "source": [
        "perjalanan_tercepat = min(timer)\n",
        "\n",
        "perjalanan_tercepat"
      ],
      "metadata": {
        "id": "kfWpQKNECpZ3",
        "outputId": "6be4b0b6-169f-4899-bf16-c8c1975a5fd2",
        "colab": {
          "base_uri": "https://localhost:8080/"
        }
      },
      "execution_count": 26,
      "outputs": [
        {
          "output_type": "execute_result",
          "data": {
            "text/plain": [
              "2"
            ]
          },
          "metadata": {},
          "execution_count": 26
        }
      ]
    },
    {
      "cell_type": "markdown",
      "source": [
        "🚀 ```Perjalanan Trip Tersingkat : 2 Menit```"
      ],
      "metadata": {
        "id": "0a0XvAgyI3ow"
      }
    },
    {
      "cell_type": "code",
      "source": [
        "perjalanan_terlama = max(timer)\n",
        "\n",
        "perjalanan_terlama"
      ],
      "metadata": {
        "id": "JS3WK2zeCrPo",
        "outputId": "37d6ba97-d9ad-412c-96e9-cb38d0321f09",
        "colab": {
          "base_uri": "https://localhost:8080/"
        }
      },
      "execution_count": 27,
      "outputs": [
        {
          "output_type": "execute_result",
          "data": {
            "text/plain": [
              "29"
            ]
          },
          "metadata": {},
          "execution_count": 27
        }
      ]
    },
    {
      "cell_type": "markdown",
      "source": [
        "🚀 ```Perjalanan Trip Terlama : 29 Menit```"
      ],
      "metadata": {
        "id": "qPLC2tkjJCeM"
      }
    },
    {
      "cell_type": "code",
      "source": [
        "support = {\"Coworking Space\":0, \"Penginapan\":0, \"Restoran\":0}\n",
        "\n",
        "for i in range(total):\n",
        "\n",
        "  sample = data[i]\n",
        "\n",
        "  supporting = sample[\"fasilitas\"]\n",
        "\n",
        "  for sup in supporting:\n",
        "\n",
        "    jenis = sup[\"jenis_fasilitas\"]\n",
        "\n",
        "    jenis = [t.capitalize() for t in jenis.strip().split(\" \")]\n",
        "\n",
        "    jenis = \" \".join(jenis)\n",
        "\n",
        "    support[jenis] += 1\n",
        "\n",
        "support"
      ],
      "metadata": {
        "id": "Eocc2sHBCwet",
        "outputId": "64a12515-d684-42c8-d286-52d126c9da54",
        "colab": {
          "base_uri": "https://localhost:8080/"
        }
      },
      "execution_count": 28,
      "outputs": [
        {
          "output_type": "execute_result",
          "data": {
            "text/plain": [
              "{'Coworking Space': 6, 'Penginapan': 27, 'Restoran': 37}"
            ]
          },
          "metadata": {},
          "execution_count": 28
        }
      ]
    },
    {
      "cell_type": "code",
      "source": [
        "fig, ax = plt.subplots(figsize=(10, 5))\n",
        "\n",
        "ax.bar(support.keys(), support.values())\n",
        "\n",
        "ax.set_title(\"Total Fasilitas Seluruh Statiun\")\n",
        "\n",
        "ax.set_xlabel(\"Fasilitas\")\n",
        "\n",
        "ax.set_ylabel(\"Total\")\n",
        "\n",
        "ax.bar_label(ax.containers[0]);"
      ],
      "metadata": {
        "id": "D2JPace9Dutb"
      },
      "execution_count": null,
      "outputs": []
    },
    {
      "cell_type": "code",
      "source": [
        "total_support = sum(support.values())\n",
        "\n",
        "total_support"
      ],
      "metadata": {
        "id": "SWIdPyXxD5bq",
        "outputId": "e0d31c4e-7ebd-4c7f-e470-69bc4e098488",
        "colab": {
          "base_uri": "https://localhost:8080/"
        }
      },
      "execution_count": 30,
      "outputs": [
        {
          "output_type": "execute_result",
          "data": {
            "text/plain": [
              "70"
            ]
          },
          "metadata": {},
          "execution_count": 30
        }
      ]
    },
    {
      "cell_type": "markdown",
      "source": [
        "🚀 ```Total Fasilitas Seluruh Statiun : 70```"
      ],
      "metadata": {
        "id": "JxnxFe4OJHct"
      }
    },
    {
      "cell_type": "code",
      "source": [
        "jadtelp = lambda sample : [] if not sample else [i.strip() for i in sample.split(\",\")]\n",
        "\n",
        "rata = lambda sample : sum(sample) // len(sample)"
      ],
      "metadata": {
        "id": "2L4GtezhE4jK"
      },
      "execution_count": 31,
      "outputs": []
    },
    {
      "cell_type": "code",
      "source": [
        "perjalanan = {\"biasa\":[], \"libur\":[]}\n",
        "\n",
        "for i in range(total):\n",
        "\n",
        "  sample = data[i]\n",
        "\n",
        "  biasa = sample[\"jadwal_hi_biasa\"]\n",
        "\n",
        "  biasa = len(jadtelp(biasa))\n",
        "\n",
        "  libur = sample[\"jadwal_hi_libur\"]\n",
        "\n",
        "  libur = len(jadtelp(libur))\n",
        "\n",
        "  perjalanan[\"biasa\"].append(biasa)\n",
        "\n",
        "  perjalanan[\"libur\"].append(libur)"
      ],
      "metadata": {
        "id": "fAyMR69bEjYa"
      },
      "execution_count": 32,
      "outputs": []
    },
    {
      "cell_type": "code",
      "source": [
        "rata_rata_libur = rata(perjalanan[\"libur\"])\n",
        "\n",
        "rata_rata_biasa = rata(perjalanan[\"biasa\"])\n",
        "\n",
        "selisih = rata_rata_biasa - rata_rata_libur\n",
        "\n",
        "selisih"
      ],
      "metadata": {
        "id": "rILrQkTWFW_Z",
        "outputId": "caab000a-7179-4f6e-d52a-50162392331c",
        "colab": {
          "base_uri": "https://localhost:8080/"
        }
      },
      "execution_count": 33,
      "outputs": [
        {
          "output_type": "execute_result",
          "data": {
            "text/plain": [
              "31"
            ]
          },
          "metadata": {},
          "execution_count": 33
        }
      ]
    },
    {
      "cell_type": "code",
      "source": [
        "perjalanan = {\"biasa\":[], \"libur\":[]}\n",
        "\n",
        "for i in range(total):\n",
        "\n",
        "  sample = data[i]\n",
        "\n",
        "  biasa = sample[\"jadwal_lb_biasa\"]\n",
        "\n",
        "  biasa = len(jadtelp(biasa))\n",
        "\n",
        "  libur = sample[\"jadwal_lb_libur\"]\n",
        "\n",
        "  libur = len(jadtelp(libur))\n",
        "\n",
        "  perjalanan[\"biasa\"].append(biasa)\n",
        "\n",
        "  perjalanan[\"libur\"].append(libur)"
      ],
      "metadata": {
        "id": "9YQVY3TJF_mb"
      },
      "execution_count": 34,
      "outputs": []
    },
    {
      "cell_type": "code",
      "source": [
        "rata_rata_libur = rata(perjalanan[\"libur\"])\n",
        "\n",
        "rata_rata_biasa = rata(perjalanan[\"biasa\"])\n",
        "\n",
        "selisih = rata_rata_biasa - rata_rata_libur\n",
        "\n",
        "selisih"
      ],
      "metadata": {
        "id": "I87LSBjbGDI5",
        "outputId": "82d0fbf2-5b53-4984-9cd1-4d39bbcbadd9",
        "colab": {
          "base_uri": "https://localhost:8080/"
        }
      },
      "execution_count": 35,
      "outputs": [
        {
          "output_type": "execute_result",
          "data": {
            "text/plain": [
              "30"
            ]
          },
          "metadata": {},
          "execution_count": 35
        }
      ]
    },
    {
      "cell_type": "markdown",
      "source": [
        "🚀 ```Selisih Rata Rata Total Perjalanan Hari Libur dan Hari Biasa : 30```"
      ],
      "metadata": {
        "id": "ls8GIZFQJO5M"
      }
    },
    {
      "cell_type": "code",
      "source": [
        "reta = []\n",
        "\n",
        "for i in range(total):\n",
        "\n",
        "  sample = data[i]\n",
        "\n",
        "  retail = sample[\"retails\"]\n",
        "\n",
        "  for ret in retail:\n",
        "\n",
        "    jenis = ret[\"jenis_retail\"]\n",
        "\n",
        "    if not jenis: jenis = \"Unclass\"\n",
        "\n",
        "    jenis = [i.capitalize() for i in jenis.strip().split(\" \")]\n",
        "\n",
        "    jenis = \" \".join(jenis)\n",
        "\n",
        "    if jenis == \"Fesyen\": jenis = \"Fashion\"\n",
        "\n",
        "    if jenis not in reta: reta.append(jenis)"
      ],
      "metadata": {
        "id": "kl5nCv6oHG-a"
      },
      "execution_count": 36,
      "outputs": []
    },
    {
      "cell_type": "code",
      "source": [
        "retailer = {ret:0 for ret in reta}\n",
        "\n",
        "for i in range(total):\n",
        "\n",
        "  sample = data[i]\n",
        "\n",
        "  retail = sample[\"retails\"]\n",
        "\n",
        "  for ret in retail:\n",
        "\n",
        "    jenis = ret[\"jenis_retail\"]\n",
        "\n",
        "    if not jenis: jenis = \"Unclass\"\n",
        "\n",
        "    jenis = [i.capitalize() for i in jenis.strip().split(\" \")]\n",
        "\n",
        "    jenis = \" \".join(jenis)\n",
        "\n",
        "    if jenis == \"Fesyen\": jenis = \"Fashion\"\n",
        "\n",
        "    retailer[jenis] +=  1"
      ],
      "metadata": {
        "id": "2cW8WjtgHSX_"
      },
      "execution_count": null,
      "outputs": []
    },
    {
      "cell_type": "code",
      "source": [
        "toretail = sum(retailer.values())\n",
        "\n",
        "toretail"
      ],
      "metadata": {
        "id": "Hwf0I6JkHexw",
        "outputId": "7fa8e80c-75bb-4770-f5e2-c65b302974ee",
        "colab": {
          "base_uri": "https://localhost:8080/"
        }
      },
      "execution_count": 38,
      "outputs": [
        {
          "output_type": "execute_result",
          "data": {
            "text/plain": [
              "73"
            ]
          },
          "metadata": {},
          "execution_count": 38
        }
      ]
    },
    {
      "cell_type": "code",
      "source": [
        "fig, ax = plt.subplots(figsize=(10, 5))\n",
        "\n",
        "ax.bar(retailer.keys(), retailer.values())\n",
        "\n",
        "ax.set_title(\"Total Retail Seluruh Statiun\")\n",
        "\n",
        "ax.set_xlabel(\"Retail\")\n",
        "\n",
        "ax.set_ylabel(\"Total\")\n",
        "\n",
        "ax.bar_label(ax.containers[0]);"
      ],
      "metadata": {
        "id": "-Oeo4JJAJmpu"
      },
      "execution_count": null,
      "outputs": []
    },
    {
      "cell_type": "markdown",
      "source": [
        "🚀 ```Total Retail Seluruh Statiun : 73```"
      ],
      "metadata": {
        "id": "yAlGxrjNJdsR"
      }
    }
  ],
  "metadata": {
    "colab": {
      "provenance": []
    },
    "kernelspec": {
      "display_name": "Python 3 (ipykernel)",
      "language": "python",
      "name": "python3"
    },
    "language_info": {
      "codemirror_mode": {
        "name": "ipython",
        "version": 3
      },
      "file_extension": ".py",
      "mimetype": "text/x-python",
      "name": "python",
      "nbconvert_exporter": "python",
      "pygments_lexer": "ipython3",
      "version": "3.9.13"
    }
  },
  "nbformat": 4,
  "nbformat_minor": 0
}